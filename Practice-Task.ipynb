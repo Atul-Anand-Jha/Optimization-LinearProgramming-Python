{
 "cells": [
  {
   "cell_type": "code",
   "execution_count": 46,
   "metadata": {
    "collapsed": true
   },
   "outputs": [],
   "source": [
    "import matplotlib.pyplot \n",
    "from matplotlib.pyplot import *\n",
    "import numpy\n",
    "from numpy import arange"
   ]
  },
  {
   "cell_type": "code",
   "execution_count": 98,
   "metadata": {
    "collapsed": false
   },
   "outputs": [
    {
     "data": {
      "image/png": "[encoded data removed]",
      "text/plain": [
       "<matplotlib.figure.Figure at 0x7f5fdab34160>"
      ]
     },
     "metadata": {},
     "output_type": "display_data"
    },
    {
     "name": "stdout",
     "output_type": "stream",
     "text": [
      "\n",
      " calculating for point: A = 200.000000 and B = 170.000000\n",
      "solution for z =  450000.0\n",
      "\n",
      " calculating for point: A = 100.000000 and B = 170.000000\n",
      "solution for z =  650000.0\n",
      "\n",
      " calculating for point: A = 100.000000 and B = 100.000000\n",
      "solution for z =  300000.0\n",
      "\n",
      " calculating for point: A = 120.000000 and B = 80.000000\n",
      "solution for z =  160000.0\n",
      "\n",
      " calculating for point: A = 200.000000 and B = 80.000000\n",
      "solution for z =  0.0\n",
      "\n",
      " the maximum profit z = $650000.000000 @ A = 100.000000 and B = 170.000000\n"
     ]
    }
   ],
   "source": [
    "figure()\n",
    "A = arange(-100, 220, 10)\n",
    "B = arange(-100, 220, 10)\n",
    "\n",
    "# constraint equation\n",
    "\n",
    "B1 = 200.0 - A\n",
    "\n",
    "\n",
    "\n",
    "xlim = (-100, 220)\n",
    "ylim= (-100, 220)\n",
    "hlines(0, -100, 220, color = 'k')\n",
    "vlines(0, -100, 220, color = 'k')\n",
    "grid(True)\n",
    "\n",
    "xlabel('X-axis')\n",
    "ylabel('Y-axis')\n",
    "\n",
    "plot(A, B1, color = 'b')\n",
    "axhline(y = 80, color = 'r')\n",
    "axhline(y = 170, color = 'm')\n",
    "axvline(x = 200, color = 'b')\n",
    "axvline(x = 100, color = 'g')\n",
    "\n",
    "title('objective function: z = 5000B - 2000A with following constarints')\n",
    "legend(['A+B>=200','200>=A>=100','170>=B>=80'])\n",
    "\n",
    "A = [200.0,100.0, 100.0, 120.0,200.0]\n",
    "B = [170.0, 170.0, 100.0, 80.0, 80.0]\n",
    "fill(A,B,'g+')\n",
    "\n",
    "\n",
    "show()\n",
    "\n",
    "checker = 0\n",
    "for i,j in zip(A,B):\n",
    "    print('\\n calculating for point: A = {0:f} and B = {1:f}' .format(i,j))\n",
    "    print('solution for z = ', 5000*j-2000*i)\n",
    "    if(checker <= (5000*j-2000*i)):\n",
    "       checker = (5000*j-2000*i)\n",
    "       X,Y = i,j\n",
    "       \n",
    "print('\\n the maximum profit z = ${0:f} @ A = {1:f} and B = {2:f}' .format(checker,X,Y))"
   ]
  },
  {
   "cell_type": "code",
   "execution_count": 48,
   "metadata": {
    "collapsed": true
   },
   "outputs": [],
   "source": [
    "from pulp import *"
   ]
  },
  {
   "cell_type": "code",
   "execution_count": 53,
   "metadata": {
    "collapsed": false
   },
   "outputs": [
    {
     "name": "stdout",
     "output_type": "stream",
     "text": [
      "20.0\n",
      "60.0\n"
     ]
    }
   ],
   "source": [
    "# declare your variables\n",
    "x1 = LpVariable(\"x1\", 0, 40)   # 0<= x1 <= 40\n",
    "x2 = LpVariable(\"x2\", 0, 1000) # 0<= x2 <= 1000\n",
    " \n",
    "# defines the problem\n",
    "prob = LpProblem(\"problem\", LpMaximize)\n",
    " \n",
    "# defines the constraints\n",
    "prob += 2*x1+x2 <= 100 \n",
    "prob += x1+x2 <= 80\n",
    "prob += x1<=40\n",
    "prob += x1>=0\n",
    "prob += x2>=0\n",
    " \n",
    "# defines the objective function to maximize\n",
    "prob += 3*x1+2*x2\n",
    " \n",
    "# solve the problem\n",
    "status = prob.solve()\n",
    "LpStatus[status]\n",
    " \n",
    "# print the results x1 = 20, x2 = 60\n",
    "print(value(x1))\n",
    "print(value(x2))"
   ]
  },
  {
   "cell_type": "code",
   "execution_count": 66,
   "metadata": {
    "collapsed": false
   },
   "outputs": [
    {
     "name": "stdout",
     "output_type": "stream",
     "text": [
      "printing status of the LP problem:  Optimal\n",
      "Value of model A car:  100.0\n",
      "Value of model B car:  170.0\n",
      "the optimal solution or say maximum profit: $ 650000.0\n"
     ]
    }
   ],
   "source": [
    "# declare your variables\n",
    "A = LpVariable(\"A\", 100, 200)   # 100 <= A <= 200\n",
    "B = LpVariable(\"B\", 80, 170) # 80 <= B <= 170\n",
    " \n",
    "# defines the problem\n",
    "prob = LpProblem(\"problem\", LpMaximize)\n",
    " \n",
    "# defines the constraints\n",
    "prob += A + B >=200 \n",
    "prob += A<=200\n",
    "prob += A>=100\n",
    "prob += B>=80\n",
    "prob += B<=170\n",
    " \n",
    "# defines the objective function to maximize\n",
    "prob += 5000*B-2000*A\n",
    " \n",
    "# solve the problem\n",
    "status = prob.solve()\n",
    "print('printing status of the LP problem: ', LpStatus[status])\n",
    " \n",
    "# print the results A = 100, B = 170\n",
    "print('Value of model A car: ', value(A))\n",
    "print('Value of model B car: ', value(B))\n",
    "print('the optimal solution or say maximum profit: $', value(prob.objective))"
   ]
  },
  {
   "cell_type": "code",
   "execution_count": 114,
   "metadata": {
    "collapsed": false
   },
   "outputs": [
    {
     "name": "stdout",
     "output_type": "stream",
     "text": [
      "Positive directional derivative for linesearch    (Exit mode 8)\n",
      "            Current function value: -650000.0\n",
      "            Iterations: 7\n",
      "            Function evaluations: 12\n",
      "            Gradient evaluations: 3\n",
      "About solution from Optimize.minnimize: \n",
      "      fun: -650000.0\n",
      "     jac: array([ 2000., -5000.])\n",
      " message: 'Positive directional derivative for linesearch'\n",
      "    nfev: 12\n",
      "     nit: 7\n",
      "    njev: 3\n",
      "  status: 8\n",
      " success: False\n",
      "       x: array([ 100.,  170.])\n",
      "\n",
      "\n",
      "\n",
      "Printing the Results: \n",
      "\n",
      "\n",
      "\n",
      "maximum Profit Gained: $ 650000.0\n",
      "\n",
      " Number of Model A Cars:  100.0\n",
      "\n",
      " Number of Model B Cars:  170.0\n"
     ]
    }
   ],
   "source": [
    "import numpy as np\n",
    "from scipy.optimize import minimize\n",
    "\n",
    "#defining our Objective function\n",
    "def objective(x):\n",
    "    A = x[0]\n",
    "    B = x[1]\n",
    "    #since we are finding Max result using Minimizer. So returned the negative value.\n",
    "    return -(5000*B-2000*A)\n",
    "\n",
    "def constraint(x):\n",
    "    return x[0]+x[1]-200\n",
    "\n",
    "#boundations\n",
    "\n",
    "b1 = [100, 200]     #bounds on A: 200 >= A >= 100\n",
    "b2 = [80, 170]      #bounds on B: 170 >= B >= 80\n",
    "\n",
    "bnds = (b1,b2)\n",
    "\n",
    "#defining Inequality type of constraint.\n",
    "con = {'type': 'ineq', 'fun': constraint}\n",
    "\n",
    "# passing any guess value for A and B into minimize fuinction.\n",
    "Xguess = [100,100]\n",
    "\n",
    "#Predicting Maximization values for the objective function by seeding guess value Xguess; boundations included..\n",
    "sol = minimize(objective, Xguess, method = 'SLSQP', options={'disp':True}, bounds = bnds, constraints = con)\n",
    "\n",
    "print('About solution from Optimize.minnimize: \\n' ,sol)\n",
    "\n",
    "\n",
    "#assigning values to desired results.\n",
    "profit = -sol.fun   #converting back to positive answer\n",
    "CarA = sol.x[0]     # number of car A models\n",
    "CarB = sol.x[1]     # number of car B models\n",
    "\n",
    "###################################################################\n",
    "\n",
    "print ('\\n\\n\\nPrinting the Results: \\n\\n\\n')\n",
    "print('maximum Profit Gained: $', profit)\n",
    "print('\\n Number of Model A Cars: ',CarA)\n",
    "print('\\n Number of Model B Cars: ',CarB)\n",
    "\n"
   ]
  },
  {
   "cell_type": "code",
   "execution_count": null,
   "metadata": {
    "collapsed": true
   },
   "outputs": [],
   "source": []
  }
 ],
 "metadata": {
  "kernelspec": {
   "display_name": "Python 3",
   "language": "python",
   "name": "python3"
  },
  "language_info": {
   "codemirror_mode": {
    "name": "ipython",
    "version": 3
   },
   "file_extension": ".py",
   "mimetype": "text/x-python",
   "name": "python",
   "nbconvert_exporter": "python",
   "pygments_lexer": "ipython3",
   "version": "3.6.0"
  }
 },
 "nbformat": 4,
 "nbformat_minor": 2
}
